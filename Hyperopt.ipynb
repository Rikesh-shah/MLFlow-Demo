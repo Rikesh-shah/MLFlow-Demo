{
 "cells": [
  {
   "cell_type": "code",
   "execution_count": 2,
   "id": "c88dbe11",
   "metadata": {},
   "outputs": [
    {
     "name": "stdout",
     "output_type": "stream",
     "text": [
      "Collecting hyperopt\n",
      "  Obtaining dependency information for hyperopt from https://files.pythonhosted.org/packages/b6/cd/5b3334d39276067f54618ce0d0b48ed69d91352fbf137468c7095170d0e5/hyperopt-0.2.7-py2.py3-none-any.whl.metadata\n",
      "  Downloading hyperopt-0.2.7-py2.py3-none-any.whl.metadata (1.7 kB)\n",
      "Requirement already satisfied: numpy in c:\\users\\rikes\\anaconda3\\lib\\site-packages (from hyperopt) (1.24.3)\n",
      "Requirement already satisfied: scipy in c:\\users\\rikes\\anaconda3\\lib\\site-packages (from hyperopt) (1.11.1)\n",
      "Requirement already satisfied: six in c:\\users\\rikes\\anaconda3\\lib\\site-packages (from hyperopt) (1.16.0)\n",
      "Requirement already satisfied: networkx>=2.2 in c:\\users\\rikes\\anaconda3\\lib\\site-packages (from hyperopt) (3.1)\n",
      "Requirement already satisfied: future in c:\\users\\rikes\\anaconda3\\lib\\site-packages (from hyperopt) (0.18.3)\n",
      "Requirement already satisfied: tqdm in c:\\users\\rikes\\anaconda3\\lib\\site-packages (from hyperopt) (4.65.0)\n",
      "Requirement already satisfied: cloudpickle in c:\\users\\rikes\\anaconda3\\lib\\site-packages (from hyperopt) (2.2.1)\n",
      "Collecting py4j (from hyperopt)\n",
      "  Obtaining dependency information for py4j from https://files.pythonhosted.org/packages/53/75/15967ccc1a9bb2c85364a4eceb64116fbf8734528315338f16efd4191f35/py4j-0.10.9.8-py2.py3-none-any.whl.metadata\n",
      "  Downloading py4j-0.10.9.8-py2.py3-none-any.whl.metadata (1.3 kB)\n",
      "Requirement already satisfied: colorama in c:\\users\\rikes\\anaconda3\\lib\\site-packages (from tqdm->hyperopt) (0.4.6)\n",
      "Downloading hyperopt-0.2.7-py2.py3-none-any.whl (1.6 MB)\n",
      "   ---------------------------------------- 0.0/1.6 MB ? eta -:--:--\n",
      "   ---------------------------------------- 0.0/1.6 MB ? eta -:--:--\n",
      "    --------------------------------------- 0.0/1.6 MB 330.3 kB/s eta 0:00:05\n",
      "   - -------------------------------------- 0.1/1.6 MB 469.7 kB/s eta 0:00:04\n",
      "   -- ------------------------------------- 0.1/1.6 MB 585.1 kB/s eta 0:00:03\n",
      "   ---- ----------------------------------- 0.2/1.6 MB 807.1 kB/s eta 0:00:02\n",
      "   ----- ---------------------------------- 0.2/1.6 MB 901.1 kB/s eta 0:00:02\n",
      "   --------- ------------------------------ 0.4/1.6 MB 1.3 MB/s eta 0:00:01\n",
      "   ------------ --------------------------- 0.5/1.6 MB 1.5 MB/s eta 0:00:01\n",
      "   ----------------------- ---------------- 0.9/1.6 MB 2.3 MB/s eta 0:00:01\n",
      "   -------------------------- ------------- 1.0/1.6 MB 2.5 MB/s eta 0:00:01\n",
      "   ---------------------------------------  1.6/1.6 MB 3.3 MB/s eta 0:00:01\n",
      "   ---------------------------------------- 1.6/1.6 MB 3.3 MB/s eta 0:00:00\n",
      "Downloading py4j-0.10.9.8-py2.py3-none-any.whl (202 kB)\n",
      "   ---------------------------------------- 0.0/202.8 kB ? eta -:--:--\n",
      "   --------------------------------------- 202.8/202.8 kB 12.0 MB/s eta 0:00:00\n",
      "Installing collected packages: py4j, hyperopt\n",
      "Successfully installed hyperopt-0.2.7 py4j-0.10.9.8\n"
     ]
    }
   ],
   "source": [
    "!pip install hyperopt"
   ]
  },
  {
   "cell_type": "code",
   "execution_count": 3,
   "id": "afd5157b",
   "metadata": {},
   "outputs": [],
   "source": [
    "import numpy as np\n",
    "from hyperopt import fmin, tpe, hp"
   ]
  },
  {
   "cell_type": "code",
   "execution_count": 4,
   "id": "7d61b981",
   "metadata": {},
   "outputs": [
    {
     "data": {
      "text/plain": [
       "4"
      ]
     },
     "execution_count": 4,
     "metadata": {},
     "output_type": "execute_result"
    }
   ],
   "source": [
    "# define objective funnction\n",
    "\n",
    "def objective(x):\n",
    "    return np.square(x - 5) + 4\n",
    "\n",
    "objective(5)"
   ]
  },
  {
   "cell_type": "code",
   "execution_count": 5,
   "id": "73d978a7",
   "metadata": {},
   "outputs": [
    {
     "data": {
      "text/plain": [
       "<hyperopt.pyll.base.Apply at 0x17f25baef90>"
      ]
     },
     "execution_count": 5,
     "metadata": {},
     "output_type": "execute_result"
    }
   ],
   "source": [
    "# hyperparameter space\n",
    "\n",
    "space = hp.uniform('x',-100,100)\n",
    "space"
   ]
  },
  {
   "cell_type": "code",
   "execution_count": 6,
   "id": "b60e5270",
   "metadata": {},
   "outputs": [
    {
     "name": "stdout",
     "output_type": "stream",
     "text": [
      "100%|██████████████████████████| 1000/1000 [00:02<00:00, 420.56trial/s, best loss: 4.001895558745238]\n"
     ]
    }
   ],
   "source": [
    "best = fmin(fn=objective,space=space,algo=tpe.suggest,max_evals=1000)"
   ]
  },
  {
   "cell_type": "code",
   "execution_count": 7,
   "id": "da2f632a",
   "metadata": {},
   "outputs": [
    {
     "data": {
      "text/plain": [
       "{'x': 4.956461985056298}"
      ]
     },
     "execution_count": 7,
     "metadata": {},
     "output_type": "execute_result"
    }
   ],
   "source": [
    "best"
   ]
  },
  {
   "cell_type": "code",
   "execution_count": null,
   "id": "e4d0f533",
   "metadata": {},
   "outputs": [],
   "source": []
  },
  {
   "cell_type": "code",
   "execution_count": null,
   "id": "12f9feb3",
   "metadata": {},
   "outputs": [],
   "source": []
  }
 ],
 "metadata": {
  "kernelspec": {
   "display_name": "Python 3 (ipykernel)",
   "language": "python",
   "name": "python3"
  },
  "language_info": {
   "codemirror_mode": {
    "name": "ipython",
    "version": 3
   },
   "file_extension": ".py",
   "mimetype": "text/x-python",
   "name": "python",
   "nbconvert_exporter": "python",
   "pygments_lexer": "ipython3",
   "version": "3.11.5"
  }
 },
 "nbformat": 4,
 "nbformat_minor": 5
}
